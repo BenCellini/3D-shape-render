{
 "cells": [
  {
   "cell_type": "code",
   "id": "initial_id",
   "metadata": {
    "collapsed": true,
    "ExecuteTime": {
     "end_time": "2025-07-22T08:23:38.507561Z",
     "start_time": "2025-07-22T08:23:38.473860Z"
    }
   },
   "source": "from cylinder3d import Cylinder3D",
   "outputs": [],
   "execution_count": 4
  },
  {
   "metadata": {
    "ExecuteTime": {
     "end_time": "2025-07-22T08:23:38.817082Z",
     "start_time": "2025-07-22T08:23:38.679789Z"
    }
   },
   "cell_type": "code",
   "source": [
    "# Render a cylinder\n",
    "cylinder = Cylinder3D(size=1.0, color_gradient_axis='z', cmap='jet')\n",
    "rgb_image, gray_image = cylinder.render(x=0.0, y=0.0, z=0.0, roll=10.0, pitch=20.0, yaw=45.0, zoom=5.0, show=True)"
   ],
   "id": "d16de315e8900210",
   "outputs": [
    {
     "data": {
      "text/plain": [
       "Widget(value='<iframe src=\"http://localhost:58101/index.html?ui=P_0x1bf252c34c0_2&reconnect=auto\" class=\"pyvis…"
      ],
      "application/vnd.jupyter.widget-view+json": {
       "version_major": 2,
       "version_minor": 0,
       "model_id": "ffabb6a3fbdb4937bb81ef75b01d12db"
      }
     },
     "metadata": {},
     "output_type": "display_data"
    }
   ],
   "execution_count": 5
  },
  {
   "metadata": {},
   "cell_type": "code",
   "outputs": [],
   "execution_count": null,
   "source": "",
   "id": "5a326807965c4525"
  }
 ],
 "metadata": {
  "kernelspec": {
   "display_name": "Python 3",
   "language": "python",
   "name": "python3"
  },
  "language_info": {
   "codemirror_mode": {
    "name": "ipython",
    "version": 2
   },
   "file_extension": ".py",
   "mimetype": "text/x-python",
   "name": "python",
   "nbconvert_exporter": "python",
   "pygments_lexer": "ipython2",
   "version": "2.7.6"
  }
 },
 "nbformat": 4,
 "nbformat_minor": 5
}
